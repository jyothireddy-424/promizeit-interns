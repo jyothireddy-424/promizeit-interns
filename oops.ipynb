{
 "cells": [
  {
   "cell_type": "markdown",
   "metadata": {},
   "source": [
    "# swapping of number using third number"
   ]
  },
  {
   "cell_type": "code",
   "execution_count": 2,
   "metadata": {},
   "outputs": [
    {
     "name": "stdout",
     "output_type": "stream",
     "text": [
      "enter the number:\n",
      "10\n",
      "enter another number:\n",
      "30\n",
      "before swapping\n",
      " x=10\n",
      " y=30\n",
      "after swapping\n",
      " x=30\n",
      " y=10\n"
     ]
    }
   ],
   "source": [
    "x=int(input(\"enter the number:\\n\"))\n",
    "y=int(input(\"enter another number:\\n\"))\n",
    "print(\"before swapping\\n x={0}\\n y={1}\".format(x,y))\n",
    "x=x+y\n",
    "y=x-y\n",
    "x=x-y\n",
    "print(\"after swapping\\n x={0}\\n y={1}\".format(x,y))"
   ]
  },
  {
   "cell_type": "markdown",
   "metadata": {},
   "source": [
    "# display the number of digits in a given number without loop"
   ]
  },
  {
   "cell_type": "code",
   "execution_count": 4,
   "metadata": {},
   "outputs": [
    {
     "name": "stdout",
     "output_type": "stream",
     "text": [
      "enter the number:\n",
      "789654\n",
      "6\n"
     ]
    }
   ],
   "source": [
    "import numpy as np\n",
    "x=(input(\"enter the number:\\n\"))\n",
    "a=x.strip()\n",
    "print(len(a))"
   ]
  },
  {
   "cell_type": "markdown",
   "metadata": {},
   "source": [
    "# display second max value without using max()"
   ]
  },
  {
   "cell_type": "code",
   "execution_count": null,
   "metadata": {},
   "outputs": [],
   "source": [
    "lst=[4,8,7,9,10,12]\n",
    "for i in range(0,len(lst)):\n",
    "    for j in range(0,len(lst)):\n",
    "        if lst[i]>lst[j]:\n",
    "            print(\"The second large number is : \",lst[j])"
   ]
  },
  {
   "cell_type": "markdown",
   "metadata": {},
   "source": [
    "# oops"
   ]
  },
  {
   "cell_type": "code",
   "execution_count": 6,
   "metadata": {},
   "outputs": [
    {
     "name": "stdout",
     "output_type": "stream",
     "text": [
      "helloo,good mrng\n"
     ]
    }
   ],
   "source": [
    "class Abc:\n",
    "    def printinfo(self):\n",
    "        print(\"helloo,good mrng\")\n",
    "obj=Abc() #object creation\n",
    "obj.printinfo()  #method calling"
   ]
  },
  {
   "cell_type": "markdown",
   "metadata": {},
   "source": [
    "# display area & perimeter of the circle inside the class"
   ]
  },
  {
   "cell_type": "code",
   "execution_count": 16,
   "metadata": {},
   "outputs": [
    {
     "data": {
      "text/plain": [
       "12.566370614359172"
      ]
     },
     "execution_count": 16,
     "metadata": {},
     "output_type": "execute_result"
    }
   ],
   "source": [
    "import math\n",
    "class circle:\n",
    "    def area(self,r):\n",
    "        return math.pi*r*r\n",
    "    def perimeter(self,r):\n",
    "        return 2*math.pi*r\n",
    "obj=circle()\n",
    "obj.area(2)\n",
    "obj.perimeter(2)"
   ]
  },
  {
   "cell_type": "code",
   "execution_count": 23,
   "metadata": {},
   "outputs": [
    {
     "name": "stdout",
     "output_type": "stream",
     "text": [
      "28.274333882308138\n",
      "78.53981633974483\n"
     ]
    },
    {
     "data": {
      "text/plain": [
       "<bound method circle.area of <__main__.circle object at 0x000000000645D710>>"
      ]
     },
     "execution_count": 23,
     "metadata": {},
     "output_type": "execute_result"
    }
   ],
   "source": [
    "import math\n",
    "class circle:\n",
    "    def __init__(self,r):\n",
    "        self.r=r\n",
    "    def area(self):\n",
    "        print(math.pi*self.r*self.r)\n",
    "obj=circle(3)\n",
    "obj.area()\n",
    "obj=circle(5)\n",
    "obj.area()\n",
    "obj=circle(6)\n",
    "obj.area\n",
    "\n",
    "    "
   ]
  },
  {
   "cell_type": "markdown",
   "metadata": {},
   "source": [
    "# single inheritance"
   ]
  },
  {
   "cell_type": "code",
   "execution_count": 27,
   "metadata": {},
   "outputs": [
    {
     "name": "stdout",
     "output_type": "stream",
     "text": [
      "cam is good\n",
      "cam is good\n"
     ]
    }
   ],
   "source": [
    "import math\n",
    "class vivo:\n",
    "    def vivo1(self):\n",
    "        print(\"cam is good\")\n",
    "class mi(vivo):\n",
    "    def redmi(self):\n",
    "        print(\"battery is bad\")\n",
    "v=vivo()\n",
    "v.vivo1()\n",
    "v=mi()\n",
    "v.vivo1()\n",
    "\n",
    "    "
   ]
  },
  {
   "cell_type": "markdown",
   "metadata": {},
   "source": [
    "# multilevel inheritence"
   ]
  },
  {
   "cell_type": "code",
   "execution_count": 30,
   "metadata": {},
   "outputs": [
    {
     "name": "stdout",
     "output_type": "stream",
     "text": [
      "memory is good\n"
     ]
    }
   ],
   "source": [
    "class vivo:\n",
    "    def vivo1(self):\n",
    "        print(\"cam is good\")\n",
    "class mi(vivo):\n",
    "    def redmi(self):\n",
    "        print(\"battery is bad\")\n",
    "class oppo(mi):\n",
    "    def oppo1(self):\n",
    "        print(\"memory is good\")\n",
    "m=oppo()\n",
    "m.oppo1()"
   ]
  },
  {
   "cell_type": "markdown",
   "metadata": {},
   "source": [
    "# multiple inheritance"
   ]
  },
  {
   "cell_type": "code",
   "execution_count": 35,
   "metadata": {},
   "outputs": [
    {
     "name": "stdout",
     "output_type": "stream",
     "text": [
      "battery is bad\n"
     ]
    }
   ],
   "source": [
    "class vivo:\n",
    "    def vivo1(self):\n",
    "        print(\"cam is good\")\n",
    "class mi():\n",
    "    def vivo1(self):\n",
    "        print(\"battery is bad\")\n",
    "class oppo(mi,vivo):\n",
    "    def oppo1(self):\n",
    "        print(\"memory is good\")\n",
    "m=oppo()\n",
    "m.vivo1()"
   ]
  },
  {
   "cell_type": "markdown",
   "metadata": {},
   "source": [
    "# hierarchy inheritance"
   ]
  },
  {
   "cell_type": "code",
   "execution_count": 41,
   "metadata": {},
   "outputs": [
    {
     "name": "stdout",
     "output_type": "stream",
     "text": [
      "battery is bad\n"
     ]
    }
   ],
   "source": [
    "class vivo():\n",
    "    def vivo1(self):\n",
    "        print(\"cam is good\")\n",
    "class mi(vivo):\n",
    "    def redmi(self):\n",
    "        print(\"battery is bad\")\n",
    "class oppo(vivo):\n",
    "    def oppo1(self):\n",
    "        print(\"memory is good\")\n",
    "m=mi()\n",
    "m.redmi()"
   ]
  },
  {
   "cell_type": "markdown",
   "metadata": {},
   "source": [
    "# hybrid inheritance"
   ]
  },
  {
   "cell_type": "code",
   "execution_count": 46,
   "metadata": {},
   "outputs": [
    {
     "name": "stdout",
     "output_type": "stream",
     "text": [
      "memory is good\n"
     ]
    }
   ],
   "source": [
    "class vivo:\n",
    "    def vivo1(self):\n",
    "        print(\"cam is good\")\n",
    "class mi(vivo):\n",
    "    def vivo1(self):\n",
    "        print(\"battery is bad\")\n",
    "class oppo(mi,vivo):\n",
    "    def oppo1(self):\n",
    "        print(\"memory is good\")\n",
    "m=oppo()\n",
    "m.oppo1()"
   ]
  },
  {
   "cell_type": "markdown",
   "metadata": {},
   "source": [
    "#### python doesnt support function overloading & method overloading\n",
    "###### overloading--compile time\n",
    "###### overriding-----run time\n",
    "# method over riding"
   ]
  },
  {
   "cell_type": "code",
   "execution_count": 51,
   "metadata": {},
   "outputs": [
    {
     "name": "stdout",
     "output_type": "stream",
     "text": [
      "helloo\n"
     ]
    }
   ],
   "source": [
    "class A:\n",
    "    def disp(self):\n",
    "        pass\n",
    "class b(A):\n",
    "    def disp(self):\n",
    "        print(\"helloo\")\n",
    "b=b()\n",
    "b.disp()"
   ]
  },
  {
   "cell_type": "markdown",
   "metadata": {},
   "source": [
    "# member creation(use local variable inside a class & outside the function,inside a class,local variable)\n"
   ]
  },
  {
   "cell_type": "code",
   "execution_count": 53,
   "metadata": {},
   "outputs": [
    {
     "name": "stdout",
     "output_type": "stream",
     "text": [
      "30\n"
     ]
    }
   ],
   "source": [
    "class add:\n",
    "    sum=0    #class variable\n",
    "    def add1(self,a,b):     #local variable\n",
    "        sum=a+b\n",
    "        print(sum)\n",
    "s=add()\n",
    "s.add1(10,20)"
   ]
  },
  {
   "cell_type": "markdown",
   "metadata": {},
   "source": [
    "# how to hide data using private members"
   ]
  },
  {
   "cell_type": "code",
   "execution_count": 57,
   "metadata": {},
   "outputs": [
    {
     "name": "stdout",
     "output_type": "stream",
     "text": [
      "12\n"
     ]
    }
   ],
   "source": [
    "class myclass:\n",
    "    __hiddenvariable=10\n",
    "    def add(self,inc):\n",
    "        self.__hiddenvariable+=inc\n",
    "        print(self.__hiddenvariable)\n",
    "obj=myclass()\n",
    "obj.add(2)"
   ]
  },
  {
   "cell_type": "markdown",
   "metadata": {},
   "source": [
    "# operator overloading in python"
   ]
  },
  {
   "cell_type": "code",
   "execution_count": 61,
   "metadata": {},
   "outputs": [
    {
     "name": "stdout",
     "output_type": "stream",
     "text": [
      "3\n"
     ]
    }
   ],
   "source": [
    "class a:\n",
    "    def __init__(self,a):\n",
    "        self.a=a\n",
    "    def __add__(self,b):\n",
    "        return self.a+b.a\n",
    "obj1=a(1)\n",
    "obj2=a(2)\n",
    "print(obj1+obj2)"
   ]
  },
  {
   "cell_type": "code",
   "execution_count": null,
   "metadata": {},
   "outputs": [],
   "source": []
  }
 ],
 "metadata": {
  "kernelspec": {
   "display_name": "Python 3",
   "language": "python",
   "name": "python3"
  },
  "language_info": {
   "codemirror_mode": {
    "name": "ipython",
    "version": 3
   },
   "file_extension": ".py",
   "mimetype": "text/x-python",
   "name": "python",
   "nbconvert_exporter": "python",
   "pygments_lexer": "ipython3",
   "version": "3.7.3"
  }
 },
 "nbformat": 4,
 "nbformat_minor": 2
}
